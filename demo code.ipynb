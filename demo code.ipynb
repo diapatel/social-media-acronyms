{
 "cells": [
  {
   "cell_type": "code",
   "execution_count": 1,
   "id": "144eb34a-4e53-4f36-b699-bcb64a92c1e2",
   "metadata": {},
   "outputs": [],
   "source": [
    "import pandas as pd"
   ]
  },
  {
   "cell_type": "code",
   "execution_count": null,
   "id": "a286f9e4-3102-4189-a11b-6a49d3309402",
   "metadata": {},
   "outputs": [],
   "source": []
  },
  {
   "cell_type": "code",
   "execution_count": 56,
   "id": "cea523ec-eb31-4a68-9db8-cac41d9fc90b",
   "metadata": {},
   "outputs": [],
   "source": [
    "text = [\"Hey everyone! Just had a crazy day at the amusement park. Went on the rollercoaster like 5 times in a row, and it was so much fun! IDK how I managed not to get sick, LOL !\",\n",
    "\n",
    "\"Also, my friend surprised me with a birthday gift. She got me the exact thing I wanted. She knows me so well! IDK how she pulled it off, but I'm feeling so grateful!\",\n",
    "\n",
    "\"Gonna grab some dinner now, so I'll catch up with you l8r ! IDC what we eat, as long as it's delicious!\"]"
   ]
  },
  {
   "cell_type": "code",
   "execution_count": 9,
   "id": "9ed17d93-bb8e-4923-ab14-7badb884cc79",
   "metadata": {},
   "outputs": [],
   "source": [
    "# reading the json file containing the acronyms\n",
    "\n",
    "acronym_df = pd.read_json('./internet_acronyms.json', orient='index')\n",
    "acronym_df.rename(columns={0:'expansions'}, inplace=True)"
   ]
  },
  {
   "cell_type": "code",
   "execution_count": 27,
   "id": "942eaf7e-3dd4-4532-9c7e-4b8dbc2605b7",
   "metadata": {
    "tags": []
   },
   "outputs": [
    {
     "data": {
      "text/plain": [
       "'laugh out loud'"
      ]
     },
     "execution_count": 27,
     "metadata": {},
     "output_type": "execute_result"
    }
   ],
   "source": [
    "# creating  a dictionary from the acronym_df\n",
    "\n",
    "acro_dict = acronym_df.to_dict()['expansions']\n",
    "acro_dict['lol']"
   ]
  },
  {
   "cell_type": "code",
   "execution_count": 51,
   "id": "0ae1389d-b5ba-450d-b5cc-630f76e9a376",
   "metadata": {},
   "outputs": [],
   "source": [
    "# function to replace acronyms\n",
    "\n",
    "def replace_acronyms(text, acronym_dict) :\n",
    "    words = text.split(' ')\n",
    "    new_words = [acronym_dict.get(word.lower(), word) for word in words]\n",
    "    return ' '.join(new_words)"
   ]
  },
  {
   "cell_type": "code",
   "execution_count": 52,
   "id": "e8036cc7-ebbb-4a16-95dd-fb5bd152e17d",
   "metadata": {},
   "outputs": [
    {
     "data": {
      "text/plain": [
       "'i do not care this is happening i do not know'"
      ]
     },
     "execution_count": 52,
     "metadata": {},
     "output_type": "execute_result"
    }
   ],
   "source": [
    "# demo of the function on a single sentence\n",
    "replace_acronyms(\"idc this is happening idk\", acro_dict)"
   ]
  },
  {
   "cell_type": "code",
   "execution_count": null,
   "id": "fc457f7e-eb0e-4743-a6e1-253b57dbfd81",
   "metadata": {},
   "outputs": [],
   "source": []
  },
  {
   "cell_type": "code",
   "execution_count": 57,
   "id": "a0e763d9-3ebd-456a-b12e-19fde76469b7",
   "metadata": {},
   "outputs": [
    {
     "name": "stdout",
     "output_type": "stream",
     "text": [
      "hey everyone! just had a crazy day at the amusement park. went on the rollercoaster like 5 times in a row, and it was so much fun! i do not know how i managed not to get sick, laugh out loud !\n",
      "also, my friend surprised me with a birthday gift. she got me the exact thing i wanted. she knows me so well! i do not know how she pulled it off, but i'm feeling so grateful!\n",
      "gonna grab some dinner now, so i'll catch up with you later ! i do not care what we eat, as long as it's delicious!\n"
     ]
    }
   ],
   "source": [
    "# demo of the function on multiple sentences\n",
    "\n",
    "for sentence in text:\n",
    "    print(replace_acro(sentence.lower(), acro_dict))"
   ]
  },
  {
   "cell_type": "code",
   "execution_count": null,
   "id": "72c037db-c992-4a24-a04d-9f5792066d8d",
   "metadata": {},
   "outputs": [],
   "source": []
  },
  {
   "cell_type": "markdown",
   "id": "412ae80c-eb72-470d-ad3f-b479b4a1b54a",
   "metadata": {},
   "source": [
    "### A case where this may not work\n",
    "You might get a situtaion where the acronym in your text is present in the acronym dictionary but still it is not replaced with its expansion A common reason for this is that it might be joined with a punctuation mark like '!' . which is why when we split the entire text based on a white space, the acronym, say, 'LOL' is seen as 'LOL!' which is not present in the json file and hence the acronym dictionary.<Br>\n",
    "The cell below shows a demo of such a case"
   ]
  },
  {
   "cell_type": "code",
   "execution_count": 58,
   "id": "ff43c118-7587-4880-b7de-8acf00fdcaec",
   "metadata": {},
   "outputs": [
    {
     "data": {
      "text/plain": [
       "\"Gonna grab some dinner now, so I'll catch up with you l8r! i do not care what we eat, as long as it's delicious!\""
      ]
     },
     "execution_count": 58,
     "metadata": {},
     "output_type": "execute_result"
    }
   ],
   "source": [
    "sample = \"Gonna grab some dinner now, so I'll catch up with you l8r! IDC what we eat, as long as it's delicious!\"\n",
    "replace_acronyms(sample, acro_dict)"
   ]
  },
  {
   "cell_type": "markdown",
   "id": "82e4d100-ee09-4f9a-a171-3cdb32fc637d",
   "metadata": {},
   "source": [
    "Here, though the acronym 'l8r' is present in the acronym dictionary, it is not being replaced with its expansion because it is joined by an exclamation mark without a space."
   ]
  },
  {
   "cell_type": "code",
   "execution_count": null,
   "id": "de646e2d-c93c-48c4-8c3a-160046187fb7",
   "metadata": {},
   "outputs": [],
   "source": []
  },
  {
   "cell_type": "markdown",
   "id": "efcf81b4-0ce1-40c9-9a16-cc8232c7c244",
   "metadata": {},
   "source": [
    "#### SOLUTION\n",
    "One way to work through this is to remove the punctuation before using replace_acronyms function on the text"
   ]
  },
  {
   "cell_type": "code",
   "execution_count": null,
   "id": "1b3804eb-6a8e-4626-b085-1116e053abde",
   "metadata": {},
   "outputs": [],
   "source": []
  },
  {
   "cell_type": "code",
   "execution_count": null,
   "id": "0cc61a9d-6f45-47ac-a302-55679e845418",
   "metadata": {},
   "outputs": [],
   "source": []
  },
  {
   "cell_type": "code",
   "execution_count": null,
   "id": "56005d5e-ef3c-415d-9cdc-ee75aced8828",
   "metadata": {},
   "outputs": [],
   "source": []
  }
 ],
 "metadata": {
  "kernelspec": {
   "display_name": "Python 3 (ipykernel)",
   "language": "python",
   "name": "python3"
  },
  "language_info": {
   "codemirror_mode": {
    "name": "ipython",
    "version": 3
   },
   "file_extension": ".py",
   "mimetype": "text/x-python",
   "name": "python",
   "nbconvert_exporter": "python",
   "pygments_lexer": "ipython3",
   "version": "3.9.13"
  }
 },
 "nbformat": 4,
 "nbformat_minor": 5
}
